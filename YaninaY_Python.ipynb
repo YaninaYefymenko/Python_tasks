{
 "cells": [
  {
   "cell_type": "markdown",
   "id": "35518621-d495-4d20-b379-6b4d1d6e62d0",
   "metadata": {},
   "source": [
    "### Завдання 1 - Створити функцію, яка приймає два аргументи (число та ступінь), та повертає результат підняття числа до вказаної ступені"
   ]
  },
  {
   "cell_type": "code",
   "execution_count": 2,
   "id": "bcbe1a32-9612-4e11-915a-2cf5f9ba015a",
   "metadata": {},
   "outputs": [],
   "source": [
    "def function (number, exponent):\n",
    "    return number ** exponent"
   ]
  },
  {
   "cell_type": "code",
   "execution_count": 4,
   "id": "1a4514c4-8957-4af1-a1d3-ebdae2323c96",
   "metadata": {},
   "outputs": [
    {
     "name": "stdout",
     "output_type": "stream",
     "text": [
      "9\n"
     ]
    }
   ],
   "source": [
    "print (function(3,2))"
   ]
  },
  {
   "cell_type": "markdown",
   "id": "13ae00c0-02a0-4782-ab55-3dc69a8bafcc",
   "metadata": {},
   "source": [
    "### Завдання 2 - Написати програму, яка виводить всі парні числа від 1 до 20."
   ]
  },
  {
   "cell_type": "code",
   "execution_count": 1,
   "id": "475638cb-7265-4e03-a30b-9dc7c7ff1640",
   "metadata": {},
   "outputs": [
    {
     "name": "stdout",
     "output_type": "stream",
     "text": [
      "2\n",
      "4\n",
      "6\n",
      "8\n",
      "10\n",
      "12\n",
      "14\n",
      "16\n",
      "18\n",
      "20\n"
     ]
    }
   ],
   "source": [
    "for number in range (1, 21):\n",
    "    if number % 2 == 0:\n",
    "        print (number)"
   ]
  },
  {
   "cell_type": "markdown",
   "id": "81acdfc7-29e1-4112-a609-2fb3b8689765",
   "metadata": {},
   "source": [
    "### Завдання 3 - Створити список чисел від 1 до 10, та вивести його зворотньо."
   ]
  },
  {
   "cell_type": "code",
   "execution_count": 2,
   "id": "c4101a33-fe92-4975-8f49-12002ed04aa1",
   "metadata": {},
   "outputs": [
    {
     "name": "stdout",
     "output_type": "stream",
     "text": [
      "[10, 9, 8, 7, 6, 5, 4, 3, 2, 1]\n"
     ]
    }
   ],
   "source": [
    "numbers = list(range(1, 11))\n",
    "numbers.reverse()\n",
    "print(numbers)"
   ]
  },
  {
   "cell_type": "markdown",
   "id": "1181c267-caeb-4386-ab56-6f5699ea858b",
   "metadata": {},
   "source": [
    "### Завдання 4 - Написати функцію, яка приймає рядок та повертає кількість унікальних символів у цьому рядку"
   ]
  },
  {
   "cell_type": "code",
   "execution_count": 3,
   "id": "dda5021a-c853-48e8-875e-6bc4be3eac5d",
   "metadata": {},
   "outputs": [],
   "source": [
    "def count_unique_chars(text):\n",
    "    unique_chars = set(text)\n",
    "    return len(unique_chars)"
   ]
  },
  {
   "cell_type": "code",
   "execution_count": 4,
   "id": "ee771118-3650-4c34-9d95-6887f4c527b3",
   "metadata": {},
   "outputs": [
    {
     "data": {
      "text/plain": [
       "6"
      ]
     },
     "execution_count": 4,
     "metadata": {},
     "output_type": "execute_result"
    }
   ],
   "source": [
    "count_unique_chars(\"привіт\")"
   ]
  },
  {
   "cell_type": "markdown",
   "id": "7984f35e-1552-4889-8ce9-215c27c2cc5b",
   "metadata": {},
   "source": [
    "### Завдання 5 - Перевернути массив використовуючи зворотню індексацію."
   ]
  },
  {
   "cell_type": "code",
   "execution_count": 7,
   "id": "bc4871a5-a088-4180-a1b9-d24277284d4b",
   "metadata": {},
   "outputs": [],
   "source": [
    "def reverse_array(arr):\n",
    "    reversed_arr = []\n",
    "    for i in range(len(arr) - 1, -1, -1):\n",
    "        reversed_arr.append(arr[i])\n",
    "    return reversed_arr"
   ]
  },
  {
   "cell_type": "code",
   "execution_count": 8,
   "id": "81677062-4a4b-497c-a562-030e9fee846e",
   "metadata": {},
   "outputs": [
    {
     "name": "stdout",
     "output_type": "stream",
     "text": [
      "[5, 4, 3, 2, 1]\n"
     ]
    }
   ],
   "source": [
    "my_list = [1, 2, 3, 4, 5]\n",
    "print(reverse_array(my_list))"
   ]
  },
  {
   "cell_type": "markdown",
   "id": "5b8b5c96-2449-468b-b6db-724a1b962ab3",
   "metadata": {},
   "source": [
    "### Завдання 6 - Створити словник, який містить дані про книгу (назва, автор, рік видання) та вивести його вміст"
   ]
  },
  {
   "cell_type": "code",
   "execution_count": 9,
   "id": "a7ed61d6-a7d6-4a98-9edc-7b4d4eb5cf79",
   "metadata": {},
   "outputs": [
    {
     "name": "stdout",
     "output_type": "stream",
     "text": [
      "{'назва': 'Ті, що співають у терні', 'автор': 'Коллін Мак-Каллоу', 'рік видання': 1977}\n"
     ]
    }
   ],
   "source": [
    "book = {\n",
    "    \"назва\": \"Ті, що співають у терні\",\n",
    "    \"автор\": \"Коллін Мак-Каллоу\",\n",
    "    \"рік видання\": 1977\n",
    "}\n",
    "\n",
    "print(book)"
   ]
  },
  {
   "cell_type": "markdown",
   "id": "13a2b184-7988-4042-b36a-db627903f1db",
   "metadata": {},
   "source": [
    "### Завдання 7 - Написати програму, яка обчислює суму перших 100 натуральних чисел"
   ]
  },
  {
   "cell_type": "code",
   "execution_count": 10,
   "id": "cbc7d8f9-ae87-449f-9b45-93758a833fec",
   "metadata": {},
   "outputs": [
    {
     "name": "stdout",
     "output_type": "stream",
     "text": [
      "Сума перших 100 натуральних чисел: 5050\n"
     ]
    }
   ],
   "source": [
    "total = 0\n",
    "for i in range(1, 101):\n",
    "    total += i\n",
    "\n",
    "print(\"Сума перших 100 натуральних чисел:\", total)"
   ]
  },
  {
   "cell_type": "code",
   "execution_count": 11,
   "id": "6000445d-83ef-42bf-8228-eb8f9392d87d",
   "metadata": {},
   "outputs": [],
   "source": [
    "import pandas as pd"
   ]
  },
  {
   "cell_type": "markdown",
   "id": "ff9845d3-981f-4c2a-83b6-566ebb988cb5",
   "metadata": {},
   "source": [
    "### Завдання 7 (Pandas) - Створити DataFrame з двох списків (назва книги та автор) та вивести перші 5 рядків"
   ]
  },
  {
   "cell_type": "code",
   "execution_count": 12,
   "id": "c2d94cb9-9daa-4158-a430-6aad5e4e9de7",
   "metadata": {},
   "outputs": [],
   "source": [
    "titles = [\n",
    "    \"Кобзар\",\n",
    "    \"Війна і мир\",\n",
    "    \"Сто років самотності\",\n",
    "    \"Майстер і Маргарита\",\n",
    "    \"Переяславська Рада\",\n",
    "    \"Дон Кіхот\",\n",
    "    \"Гаррі Поттер і філософський камінь\"\n",
    "]\n",
    "\n",
    "authors = [\n",
    "    \"Тарас Шевченко\",\n",
    "    \"Лев Толстой\",\n",
    "    \"Габріель Гарсія Маркес\",\n",
    "    \"Михайло Булгаков\",\n",
    "    \"Володимир Винниченко\",\n",
    "    \"Мігель де Сервантес\",\n",
    "    \"Джоан Роулінг\"\n",
    "]"
   ]
  },
  {
   "cell_type": "code",
   "execution_count": 13,
   "id": "1c41cf77-babe-4d4c-9c55-ce1ef9491026",
   "metadata": {},
   "outputs": [],
   "source": [
    "df = pd.DataFrame({\n",
    "    \"Назва книги\": titles,\n",
    "    \"Автор\": authors\n",
    "})"
   ]
  },
  {
   "cell_type": "code",
   "execution_count": 14,
   "id": "e319c0f8-bc0b-4892-9a46-94937ac6e16a",
   "metadata": {},
   "outputs": [
    {
     "name": "stdout",
     "output_type": "stream",
     "text": [
      "            Назва книги                   Автор\n",
      "0                Кобзар          Тарас Шевченко\n",
      "1           Війна і мир             Лев Толстой\n",
      "2  Сто років самотності  Габріель Гарсія Маркес\n",
      "3   Майстер і Маргарита        Михайло Булгаков\n",
      "4    Переяславська Рада    Володимир Винниченко\n"
     ]
    }
   ],
   "source": [
    "print(df.head(5))"
   ]
  },
  {
   "cell_type": "markdown",
   "id": "b4004daa-5fe3-459c-aa6f-03fbc3f17fbc",
   "metadata": {},
   "source": [
    "### Завдання 8 (Pandas) - Завантажити даних з CSV-файлу та вивести статистику про числові колонки"
   ]
  },
  {
   "cell_type": "code",
   "execution_count": 15,
   "id": "0511520a-5fa2-4179-bb1e-fdd1308f3a62",
   "metadata": {},
   "outputs": [],
   "source": [
    "data = {\n",
    "    \"Назва книги\": [\"Кобзар\", \"Війна і мир\", \"Сто років самотності\", \"Майстер і Маргарита\", \"Переяславська Рада\"],\n",
    "    \"Автор\": [\"Тарас Шевченко\", \"Лев Толстой\", \"Габріель Гарсія Маркес\", \"Михайло Булгаков\", \"Володимир Винниченко\"],\n",
    "    \"Оцінка\": [5, 4, 3, 5, 2],\n",
    "    \"Кількість сторінок\": [250, 1225, 417, 384, 300]\n",
    "}"
   ]
  },
  {
   "cell_type": "code",
   "execution_count": 16,
   "id": "99c8f143-3f21-4210-a21f-f8bd9c77f439",
   "metadata": {},
   "outputs": [],
   "source": [
    "df = pd.DataFrame(data)"
   ]
  },
  {
   "cell_type": "code",
   "execution_count": 17,
   "id": "50e6f433-d3f8-4929-9403-3de8e14f5e8d",
   "metadata": {},
   "outputs": [],
   "source": [
    "df.to_csv(\"books.csv\", index=False, encoding='utf-8-sig')"
   ]
  },
  {
   "cell_type": "code",
   "execution_count": 18,
   "id": "7783a1e2-c84b-4efe-a7e6-082c07d09133",
   "metadata": {},
   "outputs": [],
   "source": [
    "df_loaded = pd.read_csv(\"books.csv\", encoding='utf-8-sig')"
   ]
  },
  {
   "cell_type": "code",
   "execution_count": 19,
   "id": "76cc1e08-b0da-4d1b-8cae-b431420275b5",
   "metadata": {},
   "outputs": [
    {
     "name": "stdout",
     "output_type": "stream",
     "text": [
      "        Оцінка  Кількість сторінок\n",
      "count  5.00000            5.000000\n",
      "mean   3.80000          515.200000\n",
      "std    1.30384          402.279381\n",
      "min    2.00000          250.000000\n",
      "25%    3.00000          300.000000\n",
      "50%    4.00000          384.000000\n",
      "75%    5.00000          417.000000\n",
      "max    5.00000         1225.000000\n"
     ]
    }
   ],
   "source": [
    "print(df_loaded.describe())"
   ]
  },
  {
   "cell_type": "markdown",
   "id": "86a41bbf-7b63-4099-8fe6-5d31c5c9285d",
   "metadata": {},
   "source": [
    "### Завдання 9 (Pandas) - Вибрати лише рядки, де значення у колонці \"Оцінка\" більше 4"
   ]
  },
  {
   "cell_type": "code",
   "execution_count": 20,
   "id": "54ef33ab-399c-4e61-8888-5c2cff9a513d",
   "metadata": {},
   "outputs": [],
   "source": [
    "filtered_df = df_loaded[df_loaded[\"Оцінка\"] > 4]"
   ]
  },
  {
   "cell_type": "code",
   "execution_count": 21,
   "id": "2adad007-3e9e-4f70-82d0-36cefa1889e0",
   "metadata": {},
   "outputs": [
    {
     "name": "stdout",
     "output_type": "stream",
     "text": [
      "           Назва книги             Автор  Оцінка  Кількість сторінок\n",
      "0               Кобзар    Тарас Шевченко       5                 250\n",
      "3  Майстер і Маргарита  Михайло Булгаков       5                 384\n"
     ]
    }
   ],
   "source": [
    "print(filtered_df)"
   ]
  },
  {
   "cell_type": "markdown",
   "id": "c173740d-aec0-4f2e-b62f-8f1289417286",
   "metadata": {},
   "source": [
    "### Завдання 10 (Pandas) - Об'єднати два DataFrames за спільними колонками та вивести результат"
   ]
  },
  {
   "cell_type": "code",
   "execution_count": 22,
   "id": "fdb4a2cf-f48f-4fff-bbef-0ba1a25e4795",
   "metadata": {},
   "outputs": [],
   "source": [
    "df1 = df_loaded.copy()"
   ]
  },
  {
   "cell_type": "code",
   "execution_count": 23,
   "id": "987ed45e-6b49-4e4c-83dc-7b0d29469fb0",
   "metadata": {},
   "outputs": [],
   "source": [
    "df2 = pd.DataFrame({\n",
    "    \"Назва книги\": [\"Кобзар\", \"Війна і мир\", \"Дон Кіхот\", \"Майстер і Маргарита\"],\n",
    "    \"Рік видання\": [1840, 1869, 1605, 1967],\n",
    "    \"Жанр\": [\"Поезія\", \"Роман\", \"Роман\", \"Містика\"]\n",
    "})"
   ]
  },
  {
   "cell_type": "code",
   "execution_count": 24,
   "id": "52511934-5d2e-43aa-bc7e-67dbca142de8",
   "metadata": {},
   "outputs": [],
   "source": [
    "df_merged = pd.merge(df1, df2, on=\"Назва книги\")"
   ]
  },
  {
   "cell_type": "code",
   "execution_count": 25,
   "id": "74b93c5d-e1a3-47a4-abc9-c4c4410b4efa",
   "metadata": {},
   "outputs": [
    {
     "name": "stdout",
     "output_type": "stream",
     "text": [
      "           Назва книги             Автор  Оцінка  Кількість сторінок  \\\n",
      "0               Кобзар    Тарас Шевченко       5                 250   \n",
      "1          Війна і мир       Лев Толстой       4                1225   \n",
      "2  Майстер і Маргарита  Михайло Булгаков       5                 384   \n",
      "\n",
      "   Рік видання     Жанр  \n",
      "0         1840   Поезія  \n",
      "1         1869    Роман  \n",
      "2         1967  Містика  \n"
     ]
    }
   ],
   "source": [
    "print(df_merged)"
   ]
  },
  {
   "cell_type": "markdown",
   "id": "5ad130f3-f7c6-4968-bf31-0fe2ba67b0ec",
   "metadata": {},
   "source": [
    "### Завдання 11 (Pandas) - Використати функцію apply для створення нового стовпця на основі умови - У вас є таблиця з оцінками студентів, і вам потрібно створити новий стовпець \"Grade\" на основі наступних критеріїв: A (90 і вище), B (80-89), C (менше 80). "
   ]
  },
  {
   "cell_type": "code",
   "execution_count": 26,
   "id": "5a356522-29b6-4770-97be-37b6ef3fe6eb",
   "metadata": {},
   "outputs": [],
   "source": [
    "data = {'Score': [85, 92, 78, 95, 88]}\n",
    "df = pd.DataFrame(data)"
   ]
  },
  {
   "cell_type": "code",
   "execution_count": 27,
   "id": "045f326d-c4a2-4151-a30a-a34e7bd9ab79",
   "metadata": {},
   "outputs": [],
   "source": [
    "def grade(score):\n",
    "    if score >= 90:\n",
    "        return 'A'\n",
    "    elif score >= 80:\n",
    "        return 'B'\n",
    "    else:\n",
    "        return 'C'"
   ]
  },
  {
   "cell_type": "code",
   "execution_count": 28,
   "id": "82fb38e0-d895-4cf7-af31-c7206b93a38a",
   "metadata": {},
   "outputs": [],
   "source": [
    "df['Grade'] = df['Score'].apply(grade)"
   ]
  },
  {
   "cell_type": "code",
   "execution_count": 29,
   "id": "3130db0e-ab67-43d7-ae20-a95a391faecf",
   "metadata": {},
   "outputs": [
    {
     "name": "stdout",
     "output_type": "stream",
     "text": [
      "   Score Grade\n",
      "0     85     B\n",
      "1     92     A\n",
      "2     78     C\n",
      "3     95     A\n",
      "4     88     B\n"
     ]
    }
   ],
   "source": [
    "print(df)"
   ]
  },
  {
   "cell_type": "code",
   "execution_count": null,
   "id": "7482ece8-68ba-4d7e-87e6-25a866551f55",
   "metadata": {},
   "outputs": [],
   "source": []
  }
 ],
 "metadata": {
  "kernelspec": {
   "display_name": "Python [conda env:base] *",
   "language": "python",
   "name": "conda-base-py"
  },
  "language_info": {
   "codemirror_mode": {
    "name": "ipython",
    "version": 3
   },
   "file_extension": ".py",
   "mimetype": "text/x-python",
   "name": "python",
   "nbconvert_exporter": "python",
   "pygments_lexer": "ipython3",
   "version": "3.12.7"
  }
 },
 "nbformat": 4,
 "nbformat_minor": 5
}
